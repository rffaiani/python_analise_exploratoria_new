{
  "nbformat": 4,
  "nbformat_minor": 0,
  "metadata": {
    "colab": {
      "name": "02_programa_lançamento_de_dados.ipynb",
      "provenance": [],
      "authorship_tag": "ABX9TyMzwkssyVBflQMxYwYRRvTe"
    },
    "kernelspec": {
      "name": "python3",
      "display_name": "Python 3"
    },
    "language_info": {
      "name": "python"
    }
  },
  "cells": [
    {
      "cell_type": "markdown",
      "source": [
        "programa_lançamento_de_dados\n"
      ],
      "metadata": {
        "id": "dZZ66L_DtEyC"
      }
    },
    {
      "cell_type": "code",
      "source": [
        "#import random"
      ],
      "metadata": {
        "id": "ysSdQIBmuIeW"
      },
      "execution_count": 4,
      "outputs": []
    },
    {
      "cell_type": "code",
      "source": [
        "import random\n",
        "\n",
        "questao = input(\"Você quer lançar o dado? (s/n) \\n\")\n",
        "\n",
        "while questao != \"n\":\n",
        "    if questao == \"s\":\n",
        "      dado1 = random.randint(1,6)\n",
        "      #dado2 = random.randint(1,6)\n",
        "      print(f\"O valor é: {dado1}\")\n",
        "      questao = input(\"Você quer lançar o dado? (s/n) \\n\")\n",
        "    else:\n",
        "      print(\"Reposta inválida! Por favor digite 's' ou 'n' !!!\")\n",
        "      questao = input(\"Você quer lançar o dado? (s/n) \\n\")\n",
        "\n",
        "print(\"OK! Finalizando o programa Lançamento de Dados.\")\n",
        "\n",
        "\n"
      ],
      "metadata": {
        "colab": {
          "base_uri": "https://localhost:8080/"
        },
        "id": "BFjQgvEGuL04",
        "outputId": "cc93aee1-d591-48a8-dd21-805ee0fd72c7"
      },
      "execution_count": 5,
      "outputs": [
        {
          "output_type": "stream",
          "name": "stdout",
          "text": [
            "Você quer lançar o dado? (s/n) \n",
            "s\n",
            "O valor é: 1\n",
            "Você quer lançar o dado? (s/n) \n",
            "w\n",
            "Reposta inválida! Por favor digite 's' ou 'n' !!!\n",
            "Você quer lançar o dado? (s/n) \n",
            "s\n",
            "O valor é: 2\n",
            "Você quer lançar o dado? (s/n) \n",
            "v\n",
            "Reposta inválida! Por favor digite 's' ou 'n' !!!\n",
            "Você quer lançar o dado? (s/n) \n",
            "s\n",
            "O valor é: 4\n",
            "Você quer lançar o dado? (s/n) \n",
            "s\n",
            "O valor é: 2\n",
            "Você quer lançar o dado? (s/n) \n",
            "s\n",
            "O valor é: 1\n",
            "Você quer lançar o dado? (s/n) \n",
            "s\n",
            "O valor é: 6\n",
            "Você quer lançar o dado? (s/n) \n",
            "s\n",
            "O valor é: 3\n",
            "Você quer lançar o dado? (s/n) \n",
            "s\n",
            "O valor é: 6\n",
            "Você quer lançar o dado? (s/n) \n",
            "s\n",
            "O valor é: 4\n",
            "Você quer lançar o dado? (s/n) \n",
            "s\n",
            "O valor é: 2\n",
            "Você quer lançar o dado? (s/n) \n",
            "s\n",
            "O valor é: 5\n",
            "Você quer lançar o dado? (s/n) \n",
            "n\n",
            "OK! Finalizando o programa Lançamento de Dados.\n"
          ]
        }
      ]
    }
  ]
}