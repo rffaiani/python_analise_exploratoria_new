{
  "nbformat": 4,
  "nbformat_minor": 0,
  "metadata": {
    "colab": {
      "name": "Evento__Aulão__de_Python.ipynb",
      "provenance": [],
      "collapsed_sections": []
    },
    "kernelspec": {
      "name": "python3",
      "display_name": "Python 3"
    },
    "language_info": {
      "name": "python"
    }
  },
  "cells": [
    {
      "cell_type": "code",
      "execution_count": null,
      "metadata": {
        "colab": {
          "base_uri": "https://localhost:8080/"
        },
        "id": "MfTL6nvItSRN",
        "outputId": "0d4e7ece-9b06-466e-95ca-4b5fd43af835"
      },
      "outputs": [
        {
          "output_type": "stream",
          "name": "stdout",
          "text": [
            "Olá Mundão!\n"
          ]
        }
      ],
      "source": [
        "# Imprimindo um valor\n",
        "print('Olá Mundão!')"
      ]
    },
    {
      "cell_type": "code",
      "source": [
        "# Operadores Matematicos\n",
        "# Soma\n",
        "4 + 4 + 2 + 10"
      ],
      "metadata": {
        "colab": {
          "base_uri": "https://localhost:8080/"
        },
        "id": "ettLhBdquG7m",
        "outputId": "535f6ded-0a8a-4830-8f02-1852cd96b56d"
      },
      "execution_count": null,
      "outputs": [
        {
          "output_type": "execute_result",
          "data": {
            "text/plain": [
              "20"
            ]
          },
          "metadata": {},
          "execution_count": 19
        }
      ]
    },
    {
      "cell_type": "code",
      "source": [
        "# subtração\n",
        "4 - 2"
      ],
      "metadata": {
        "colab": {
          "base_uri": "https://localhost:8080/"
        },
        "id": "jaZ7nCgnuemO",
        "outputId": "dc89e636-4fa2-4a22-d824-559696164ac1"
      },
      "execution_count": null,
      "outputs": [
        {
          "output_type": "execute_result",
          "data": {
            "text/plain": [
              "2"
            ]
          },
          "metadata": {},
          "execution_count": 9
        }
      ]
    },
    {
      "cell_type": "code",
      "source": [
        "# Multiplicação\n",
        "2 * 2"
      ],
      "metadata": {
        "colab": {
          "base_uri": "https://localhost:8080/"
        },
        "id": "CsK_g6FouiTX",
        "outputId": "5b5f8db8-1560-4230-a606-a21af9d188c0"
      },
      "execution_count": null,
      "outputs": [
        {
          "output_type": "execute_result",
          "data": {
            "text/plain": [
              "4"
            ]
          },
          "metadata": {},
          "execution_count": 20
        }
      ]
    },
    {
      "cell_type": "code",
      "source": [
        "# Divisão\n",
        "4 / 4"
      ],
      "metadata": {
        "colab": {
          "base_uri": "https://localhost:8080/"
        },
        "id": "tmmes3eeujW3",
        "outputId": "1662d76e-c441-4019-ef53-f255ed922c25"
      },
      "execution_count": null,
      "outputs": [
        {
          "output_type": "execute_result",
          "data": {
            "text/plain": [
              "1.0"
            ]
          },
          "metadata": {},
          "execution_count": 21
        }
      ]
    },
    {
      "cell_type": "code",
      "source": [
        "# Exponenciação\n",
        "2 ** 15"
      ],
      "metadata": {
        "colab": {
          "base_uri": "https://localhost:8080/"
        },
        "id": "U5GIcFt5ukh2",
        "outputId": "e2432d68-609f-4204-ad53-c21c189efba8"
      },
      "execution_count": null,
      "outputs": [
        {
          "output_type": "execute_result",
          "data": {
            "text/plain": [
              "32768"
            ]
          },
          "metadata": {},
          "execution_count": 22
        }
      ]
    },
    {
      "cell_type": "code",
      "source": [
        "# Resto da Divisão\n",
        "9 % 4"
      ],
      "metadata": {
        "colab": {
          "base_uri": "https://localhost:8080/"
        },
        "id": "zODBfRiWusxr",
        "outputId": "604d4088-e057-40f1-9156-efa97f261f2b"
      },
      "execution_count": null,
      "outputs": [
        {
          "output_type": "execute_result",
          "data": {
            "text/plain": [
              "1"
            ]
          },
          "metadata": {},
          "execution_count": 23
        }
      ]
    },
    {
      "cell_type": "code",
      "source": [
        "# Divisão de chão\n",
        "9 // 2"
      ],
      "metadata": {
        "colab": {
          "base_uri": "https://localhost:8080/"
        },
        "id": "ilDL5UXTuzsL",
        "outputId": "1f152e1e-cc5d-4f9a-a7d0-223e13f88ada"
      },
      "execution_count": null,
      "outputs": [
        {
          "output_type": "execute_result",
          "data": {
            "text/plain": [
              "4"
            ]
          },
          "metadata": {},
          "execution_count": 24
        }
      ]
    },
    {
      "cell_type": "code",
      "source": [
        "# Priorização dos calculos\n",
        "2 + (2 + 2) - 2**2"
      ],
      "metadata": {
        "colab": {
          "base_uri": "https://localhost:8080/"
        },
        "id": "R7rllHYcu73q",
        "outputId": "59e3f7d6-3d45-4ce4-e712-80c88fa7e6e2"
      },
      "execution_count": null,
      "outputs": [
        {
          "output_type": "execute_result",
          "data": {
            "text/plain": [
              "2"
            ]
          },
          "metadata": {},
          "execution_count": 26
        }
      ]
    },
    {
      "cell_type": "code",
      "source": [
        "# Variaveis\n",
        "SouUmaVariavel = 'sou uma string'\n",
        "SouUmaVariavel_02 = \"Sou outra variavel\"\n",
        "\n",
        "print( SouUmaVariavel )\n",
        "print( SouUmaVariavel_02 )"
      ],
      "metadata": {
        "colab": {
          "base_uri": "https://localhost:8080/"
        },
        "id": "LgxFyj1WvXvT",
        "outputId": "7c44750e-6e81-40d5-fee0-a4da52961565"
      },
      "execution_count": null,
      "outputs": [
        {
          "output_type": "stream",
          "name": "stdout",
          "text": [
            "sou uma string\n",
            "Sou outra variavel\n"
          ]
        }
      ]
    },
    {
      "cell_type": "code",
      "source": [
        "# Tipos de Variaveis\n",
        "\n",
        "# Valores Inteiros\n",
        "Inteiro = 100\n",
        "Inteiro_02 = int( 200 )\n",
        "\n",
        "print( Inteiro )\n",
        "print( Inteiro_02 )"
      ],
      "metadata": {
        "colab": {
          "base_uri": "https://localhost:8080/",
          "height": 243
        },
        "id": "PB_cpyLuvs6e",
        "outputId": "0b030bd0-92e2-444e-dfa8-ff063343fdf1"
      },
      "execution_count": null,
      "outputs": [
        {
          "output_type": "error",
          "ename": "TypeError",
          "evalue": "ignored",
          "traceback": [
            "\u001b[0;31m---------------------------------------------------------------------------\u001b[0m",
            "\u001b[0;31mTypeError\u001b[0m                                 Traceback (most recent call last)",
            "\u001b[0;32m<ipython-input-35-7e0776be94db>\u001b[0m in \u001b[0;36m<module>\u001b[0;34m()\u001b[0m\n\u001b[1;32m      3\u001b[0m \u001b[0;31m# Valores Inteiros\u001b[0m\u001b[0;34m\u001b[0m\u001b[0;34m\u001b[0m\u001b[0;34m\u001b[0m\u001b[0m\n\u001b[1;32m      4\u001b[0m \u001b[0mInteiro\u001b[0m \u001b[0;34m=\u001b[0m \u001b[0;36m100\u001b[0m\u001b[0;34m\u001b[0m\u001b[0;34m\u001b[0m\u001b[0m\n\u001b[0;32m----> 5\u001b[0;31m \u001b[0mInteiro_02\u001b[0m \u001b[0;34m=\u001b[0m \u001b[0mint\u001b[0m\u001b[0;34m(\u001b[0m \u001b[0;36m200\u001b[0m \u001b[0;34m)\u001b[0m\u001b[0;34m\u001b[0m\u001b[0;34m\u001b[0m\u001b[0m\n\u001b[0m\u001b[1;32m      6\u001b[0m \u001b[0;34m\u001b[0m\u001b[0m\n\u001b[1;32m      7\u001b[0m \u001b[0mprint\u001b[0m\u001b[0;34m(\u001b[0m \u001b[0mInteiro\u001b[0m \u001b[0;34m)\u001b[0m\u001b[0;34m\u001b[0m\u001b[0;34m\u001b[0m\u001b[0m\n",
            "\u001b[0;31mTypeError\u001b[0m: 'int' object is not callable"
          ]
        }
      ]
    },
    {
      "cell_type": "code",
      "source": [
        "# Valores Flutuantes\n",
        "Flutuante = 10.10\n",
        "Flutuante_02 = float( 10.99999 )\n",
        "\n",
        "print( Flutuante )\n",
        "print( Flutuante_02 )"
      ],
      "metadata": {
        "colab": {
          "base_uri": "https://localhost:8080/"
        },
        "id": "5el-Qt7awgr4",
        "outputId": "88359a60-95b1-4e3a-b256-bb2f3aff4380"
      },
      "execution_count": null,
      "outputs": [
        {
          "output_type": "stream",
          "name": "stdout",
          "text": [
            "10.1\n",
            "10.99999\n"
          ]
        }
      ]
    },
    {
      "cell_type": "code",
      "source": [
        "# Strings\n",
        "Palavra = 'Qualquer Coisa'\n",
        "Palavra_02 = str( 'Qualquer Coisa' )"
      ],
      "metadata": {
        "colab": {
          "base_uri": "https://localhost:8080/"
        },
        "id": "KtuqaAFzxFLS",
        "outputId": "bca7f59b-fbb6-41a0-c168-81d9f52ae4e0"
      },
      "execution_count": null,
      "outputs": [
        {
          "output_type": "execute_result",
          "data": {
            "text/plain": [
              "10.9"
            ]
          },
          "metadata": {},
          "execution_count": 38
        }
      ]
    },
    {
      "cell_type": "code",
      "source": [
        "# Booleanos  \n",
        "Booleano = True\n",
        "Booleano_02 = False\n",
        "\n",
        "print( Booleano )\n",
        "print( Booleano_02 )"
      ],
      "metadata": {
        "colab": {
          "base_uri": "https://localhost:8080/"
        },
        "id": "W978cGCVxJBq",
        "outputId": "1a42a727-c268-4fa4-90bf-01ef7efdd2c8"
      },
      "execution_count": null,
      "outputs": [
        {
          "output_type": "stream",
          "name": "stdout",
          "text": [
            "True\n",
            "False\n"
          ]
        }
      ]
    },
    {
      "cell_type": "code",
      "source": [
        "# Listas\n",
        "Lista = [ 10, 20, 30, 40, 50, 60, 70, 80, 90, 100 ]\n",
        "Lista_02 =  [ 10, 10.90, True, 'Palavra' ]\n",
        "Lista_03 = [ Lista, Lista_02 ]\n",
        "\n",
        "print( Lista )\n",
        "print( Lista_02 )\n",
        "print( Lista_03 )"
      ],
      "metadata": {
        "colab": {
          "base_uri": "https://localhost:8080/"
        },
        "id": "5cYgzdGQxVPs",
        "outputId": "3808882f-15b7-4270-9bce-cbcc6d0a2aed"
      },
      "execution_count": null,
      "outputs": [
        {
          "output_type": "stream",
          "name": "stdout",
          "text": [
            "[10, 20, 30, 40, 50, 60, 70, 80, 90, 100]\n",
            "[10, 10.9, True, 'Palavra']\n",
            "[[10, 20, 30, 40, 50, 60, 70, 80, 90, 100], [10, 10.9, True, 'Palavra']]\n"
          ]
        }
      ]
    },
    {
      "cell_type": "code",
      "source": [
        "# Tuplas - Imnutavel\n",
        "Tupla = (10, 20)\n",
        "\n",
        "print( Tupla )"
      ],
      "metadata": {
        "colab": {
          "base_uri": "https://localhost:8080/"
        },
        "id": "cCoKV4t_x4FR",
        "outputId": "49757607-e931-4a4a-a98c-49250c8ba418"
      },
      "execution_count": null,
      "outputs": [
        {
          "output_type": "stream",
          "name": "stdout",
          "text": [
            "(10, 20)\n"
          ]
        }
      ]
    },
    {
      "cell_type": "code",
      "source": [
        "# Dicionarios\n",
        "Dicionario = {\n",
        "    'index' : 'Alguma Coisa',\n",
        "    1 : 100,\n",
        "    'Id' : 900,\n",
        "    'Lista' : [ 1, 2, 3]\n",
        "}\n",
        "\n",
        "print( Dicionario )"
      ],
      "metadata": {
        "colab": {
          "base_uri": "https://localhost:8080/"
        },
        "id": "JU64MWODycA4",
        "outputId": "d17073d1-2598-4831-9124-69599273d575"
      },
      "execution_count": null,
      "outputs": [
        {
          "output_type": "stream",
          "name": "stdout",
          "text": [
            "{'index': 'Alguma Coisa', 1: 100, 'Id': 900, 'Lista': [1, 2, 3]}\n"
          ]
        }
      ]
    },
    {
      "cell_type": "code",
      "source": [
        "Dicionario['Lista']"
      ],
      "metadata": {
        "colab": {
          "base_uri": "https://localhost:8080/"
        },
        "id": "jk86L-Edyza4",
        "outputId": "a35061a8-1a26-485f-a456-bae3339b268f"
      },
      "execution_count": null,
      "outputs": [
        {
          "output_type": "execute_result",
          "data": {
            "text/plain": [
              "[1, 2, 3]"
            ]
          },
          "metadata": {},
          "execution_count": 49
        }
      ]
    },
    {
      "cell_type": "code",
      "source": [
        "# Condição INSS\n",
        "\n",
        "# Sistema de RH\n",
        "Salario = 2000\n",
        "\n",
        "# Variaveis de Desconto\n",
        "INSS = 0.14\n",
        "Vale_Refeicao = 0.02\n",
        "Vale_Transporte = 0.04\n",
        "IR = 0.08\n",
        "\n",
        "# Condição\n",
        "if Salario <= 2000:\n",
        "  IR = 0\n",
        "\n",
        "# Organizar em um dicionario\n",
        "Dicionario = {\n",
        "    'INSS' : Salario * INSS,\n",
        "    'Vale Refeição' : Salario * Vale_Refeicao,\n",
        "    'Vale Transporte' : Salario * Vale_Transporte,\n",
        "    'Imposto de Renda (Leão)' : Salario * IR\n",
        "}\n",
        "\n",
        "# Calculo do Debito\n",
        "Desconto = Dicionario['INSS'] + Dicionario['Vale Refeição'] + Dicionario['Vale Transporte'] + Dicionario['Imposto de Renda (Leão)']\n",
        "\n",
        "# Calcular o Valor Liquido\n",
        "Liquido = Salario - Desconto\n",
        "\n",
        "print(f'Valor líquido do Salário será: {Liquido}')\n",
        "print(f'O desconto será de: {Desconto}')"
      ],
      "metadata": {
        "colab": {
          "base_uri": "https://localhost:8080/"
        },
        "id": "umPlycLwy9lL",
        "outputId": "90c4417f-61da-47ac-d84f-87df9ab402ed"
      },
      "execution_count": null,
      "outputs": [
        {
          "output_type": "stream",
          "name": "stdout",
          "text": [
            "Valor líquido do Salário será: 1600.0\n",
            "O desconto será de: 400.0\n"
          ]
        }
      ]
    },
    {
      "cell_type": "code",
      "source": [
        "# prints Formatados\n",
        "print('Um valor', 'Outro Valor', 'Qtos eu quiser')\n",
        "\n",
        "print('Valor', 900)\n",
        "\n",
        "print(f'Valor {900 ** 2 / 900}')\n",
        "\n",
        "print('Valor {}'.format(900) )\n",
        "\n",
        "print('Valor' + str(900) )\n",
        "\n",
        "Variavel = 900\n",
        "print('Valor' + str( Variavel))"
      ],
      "metadata": {
        "colab": {
          "base_uri": "https://localhost:8080/"
        },
        "id": "LvRMEqQ_zV3u",
        "outputId": "5a40bd5d-eada-406a-f42a-3414d6a62b95"
      },
      "execution_count": null,
      "outputs": [
        {
          "output_type": "stream",
          "name": "stdout",
          "text": [
            "Um valor Outro Valor Qtos eu quiser\n",
            "Valor 900\n",
            "Valor 900.0\n",
            "Valor 900\n",
            "Valor900\n",
            "Valor900\n"
          ]
        }
      ]
    },
    {
      "cell_type": "code",
      "source": [
        "# Verificar tipo de informação\n",
        "type( 99191919191 )"
      ],
      "metadata": {
        "colab": {
          "base_uri": "https://localhost:8080/"
        },
        "id": "86zzMY1q0hJO",
        "outputId": "919e5029-6f40-4bef-ac2b-30045965a438"
      },
      "execution_count": null,
      "outputs": [
        {
          "output_type": "execute_result",
          "data": {
            "text/plain": [
              "int"
            ]
          },
          "metadata": {},
          "execution_count": 66
        }
      ]
    },
    {
      "cell_type": "code",
      "source": [
        "type( 99191919191.999999 )"
      ],
      "metadata": {
        "colab": {
          "base_uri": "https://localhost:8080/"
        },
        "id": "XUw3sYla2Cbu",
        "outputId": "d6e20b5c-3575-4d72-aec1-59b6f39014b1"
      },
      "execution_count": null,
      "outputs": [
        {
          "output_type": "execute_result",
          "data": {
            "text/plain": [
              "float"
            ]
          },
          "metadata": {},
          "execution_count": 67
        }
      ]
    },
    {
      "cell_type": "code",
      "source": [
        "type( [9,9,9,9] )"
      ],
      "metadata": {
        "colab": {
          "base_uri": "https://localhost:8080/"
        },
        "id": "1GSSIS8j2Fcq",
        "outputId": "304d160d-eff2-49f0-8209-e9d157221076"
      },
      "execution_count": null,
      "outputs": [
        {
          "output_type": "execute_result",
          "data": {
            "text/plain": [
              "list"
            ]
          },
          "metadata": {},
          "execution_count": 68
        }
      ]
    },
    {
      "cell_type": "code",
      "source": [
        "# Operadores Logiscos\n",
        "igual = '=='\n",
        "diferente = '!='\n",
        "Maior = '>'\n",
        "Menor = '<'\n",
        "Maior_igual = '>='\n",
        "Menor_igual = '<='"
      ],
      "metadata": {
        "id": "gO9dacsf2Io2"
      },
      "execution_count": null,
      "outputs": []
    },
    {
      "cell_type": "code",
      "source": [
        "2 > 2"
      ],
      "metadata": {
        "colab": {
          "base_uri": "https://localhost:8080/"
        },
        "id": "G7XoXk8O2kAb",
        "outputId": "2061c70b-3c8e-4186-88a0-8d1b23c16f32"
      },
      "execution_count": null,
      "outputs": [
        {
          "output_type": "execute_result",
          "data": {
            "text/plain": [
              "False"
            ]
          },
          "metadata": {},
          "execution_count": 71
        }
      ]
    },
    {
      "cell_type": "code",
      "source": [
        "2 >= 2"
      ],
      "metadata": {
        "colab": {
          "base_uri": "https://localhost:8080/"
        },
        "id": "GPkzA-CH2uAQ",
        "outputId": "19d54734-a6fe-456b-f2f7-eac80a186779"
      },
      "execution_count": null,
      "outputs": [
        {
          "output_type": "execute_result",
          "data": {
            "text/plain": [
              "True"
            ]
          },
          "metadata": {},
          "execution_count": 72
        }
      ]
    },
    {
      "cell_type": "code",
      "source": [
        "2 != 2"
      ],
      "metadata": {
        "colab": {
          "base_uri": "https://localhost:8080/"
        },
        "id": "V5afhqA_20Ae",
        "outputId": "25652ad5-f100-4aee-b65a-78e45b48cd53"
      },
      "execution_count": null,
      "outputs": [
        {
          "output_type": "execute_result",
          "data": {
            "text/plain": [
              "False"
            ]
          },
          "metadata": {},
          "execution_count": 73
        }
      ]
    },
    {
      "cell_type": "code",
      "source": [
        "( 2 + 2 + 2 ) > 6"
      ],
      "metadata": {
        "colab": {
          "base_uri": "https://localhost:8080/"
        },
        "id": "aGI-NCUn2275",
        "outputId": "b2872104-9905-4006-b62a-f4a584eb3db3"
      },
      "execution_count": null,
      "outputs": [
        {
          "output_type": "execute_result",
          "data": {
            "text/plain": [
              "False"
            ]
          },
          "metadata": {},
          "execution_count": 74
        }
      ]
    },
    {
      "cell_type": "code",
      "source": [
        "# Operadores\n",
        "And = 'e'\n",
        "Or = 'ou'\n",
        "Negacao =  'not'\n",
        "Dentro = 'in'"
      ],
      "metadata": {
        "id": "l_dvPnh73Fdz"
      },
      "execution_count": null,
      "outputs": []
    },
    {
      "cell_type": "code",
      "source": [
        "8 > 7 and 7 > 8"
      ],
      "metadata": {
        "colab": {
          "base_uri": "https://localhost:8080/"
        },
        "id": "h-5udkld3W34",
        "outputId": "34bd89d1-4c15-4aba-96bb-f69dc1e5035f"
      },
      "execution_count": null,
      "outputs": [
        {
          "output_type": "execute_result",
          "data": {
            "text/plain": [
              "False"
            ]
          },
          "metadata": {},
          "execution_count": 77
        }
      ]
    },
    {
      "cell_type": "code",
      "source": [
        "8 > 7 or 7 < 8"
      ],
      "metadata": {
        "colab": {
          "base_uri": "https://localhost:8080/"
        },
        "id": "TZOMWMK-3jEz",
        "outputId": "3671865e-7912-43da-eeb8-18d0620ae366"
      },
      "execution_count": null,
      "outputs": [
        {
          "output_type": "execute_result",
          "data": {
            "text/plain": [
              "True"
            ]
          },
          "metadata": {},
          "execution_count": 78
        }
      ]
    },
    {
      "cell_type": "code",
      "source": [
        "Lista = [ 1, 2, 4]\n",
        "\n",
        "1 in Lista"
      ],
      "metadata": {
        "colab": {
          "base_uri": "https://localhost:8080/"
        },
        "id": "O8sKyaZN3t6j",
        "outputId": "106a1d66-8f21-4dfa-df35-5e23a27ed325"
      },
      "execution_count": null,
      "outputs": [
        {
          "output_type": "execute_result",
          "data": {
            "text/plain": [
              "True"
            ]
          },
          "metadata": {},
          "execution_count": 82
        }
      ]
    },
    {
      "cell_type": "code",
      "source": [
        "1 not in Lista"
      ],
      "metadata": {
        "colab": {
          "base_uri": "https://localhost:8080/"
        },
        "id": "Ujq_HUjx33cs",
        "outputId": "9d5d6170-dbf5-45ca-b236-ae2990d30856"
      },
      "execution_count": null,
      "outputs": [
        {
          "output_type": "execute_result",
          "data": {
            "text/plain": [
              "False"
            ]
          },
          "metadata": {},
          "execution_count": 85
        }
      ]
    },
    {
      "cell_type": "code",
      "source": [
        "# Pacores - são funções\n",
        "import datetime"
      ],
      "metadata": {
        "id": "YjrzbO6H34Z2"
      },
      "execution_count": null,
      "outputs": []
    },
    {
      "cell_type": "code",
      "source": [
        "Data = '08/03/22'\n",
        "\n",
        "Data = datetime.datetime.strptime(Data, '%d/%m/%y')\n",
        "\n",
        "print( type( Data ), Data )"
      ],
      "metadata": {
        "colab": {
          "base_uri": "https://localhost:8080/"
        },
        "id": "9yaZSWK-4iyg",
        "outputId": "4ef14057-f7b8-42ec-90d7-a6709399dcd1"
      },
      "execution_count": null,
      "outputs": [
        {
          "output_type": "stream",
          "name": "stdout",
          "text": [
            "<class 'datetime.datetime'> 2022-03-08 00:00:00\n"
          ]
        }
      ]
    },
    {
      "cell_type": "code",
      "source": [
        ""
      ],
      "metadata": {
        "id": "7rzhF9lU8Od4"
      },
      "execution_count": null,
      "outputs": []
    },
    {
      "cell_type": "code",
      "source": [
        "# Condições\n",
        "# IF\n",
        "\n",
        "Idade = 19\n",
        "\n",
        "if Idade >= 18:\n",
        "  print('Você é maior de Idade!')\n",
        "\n",
        "elif Idade == 17:\n",
        "  print('Quase lá em !!!!!!')\n",
        "\n",
        "else:\n",
        "  print('Você é menor de idade')\n"
      ],
      "metadata": {
        "colab": {
          "base_uri": "https://localhost:8080/"
        },
        "id": "PHTRbpZ043fC",
        "outputId": "2a5c2ff4-80c9-4501-c076-d03e3095112d"
      },
      "execution_count": null,
      "outputs": [
        {
          "output_type": "stream",
          "name": "stdout",
          "text": [
            "Você é maior de Idade!\n"
          ]
        }
      ]
    },
    {
      "cell_type": "code",
      "source": [
        "# Loops\n",
        "\n",
        "for EscrevaQualquerCoisa in range(10):\n",
        "  print( EscrevaQualquerCoisa ** 2 )"
      ],
      "metadata": {
        "colab": {
          "base_uri": "https://localhost:8080/"
        },
        "id": "r-vrk3K06Mvf",
        "outputId": "1b0d9236-ca91-4e2d-ce1f-85a79f203197"
      },
      "execution_count": null,
      "outputs": [
        {
          "output_type": "stream",
          "name": "stdout",
          "text": [
            "0\n",
            "1\n",
            "4\n",
            "9\n",
            "16\n",
            "25\n",
            "36\n",
            "49\n",
            "64\n",
            "81\n"
          ]
        }
      ]
    },
    {
      "cell_type": "code",
      "source": [
        "Lista = [1, 2, 3, 4, 5, 100]\n",
        "\n",
        "for Qualuqer in Lista:\n",
        "  print( Qualuqer )"
      ],
      "metadata": {
        "colab": {
          "base_uri": "https://localhost:8080/"
        },
        "id": "a4aDasaH8bFb",
        "outputId": "f1711c13-db63-4c7f-cede-5e7dd1fea35f"
      },
      "execution_count": null,
      "outputs": [
        {
          "output_type": "stream",
          "name": "stdout",
          "text": [
            "1\n",
            "2\n",
            "3\n",
            "4\n",
            "5\n",
            "100\n"
          ]
        }
      ]
    },
    {
      "cell_type": "code",
      "source": [
        "Lista_Paises = ['Brasil', 'Argentina', 'Uruguai', 'Paraguai']\n",
        "\n",
        "for Pais in Lista_Paises:\n",
        "\n",
        "  if Pais == 'Uruguai':\n",
        "    print('Bi Campeao de Futebol')"
      ],
      "metadata": {
        "colab": {
          "base_uri": "https://localhost:8080/"
        },
        "id": "BfvQnP3l9EpT",
        "outputId": "02c55cb1-3e56-4dda-8b4a-f801f1dcc2d4"
      },
      "execution_count": null,
      "outputs": [
        {
          "output_type": "stream",
          "name": "stdout",
          "text": [
            "Bi Campeao de Futebol\n"
          ]
        }
      ]
    },
    {
      "cell_type": "code",
      "source": [
        ""
      ],
      "metadata": {
        "id": "Csv9NzvW9aoz"
      },
      "execution_count": null,
      "outputs": []
    }
  ]
}